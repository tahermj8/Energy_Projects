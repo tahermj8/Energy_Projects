{
 "cells": [
  {
   "cell_type": "markdown",
   "metadata": {},
   "source": []
  },
  {
   "cell_type": "markdown",
   "metadata": {},
   "source": [
    "# Taher Muhammedali - 0478012"
   ]
  },
  {
   "cell_type": "markdown",
   "metadata": {},
   "source": [
    "## Assignment 3 - Task 3 - Data Science ESM"
   ]
  },
  {
   "cell_type": "code",
   "execution_count": 1,
   "metadata": {},
   "outputs": [],
   "source": [
    "import pyomo.environ as pe\n",
    "import pandas as pd\n",
    "import pypsa as pyp\n",
    "import warnings\n",
    "warnings.filterwarnings(\"ignore\")"
   ]
  },
  {
   "cell_type": "markdown",
   "metadata": {},
   "source": [
    "### NOTE - Pypsa method done first, then Pyomo"
   ]
  },
  {
   "cell_type": "code",
   "execution_count": 2,
   "metadata": {
    "collapsed": false,
    "jupyter": {
     "outputs_hidden": false
    }
   },
   "outputs": [],
   "source": [
    "# Creating dictionaries for Powerplants, Marginal Costs, Loads & Flows"
   ]
  },
  {
   "cell_type": "code",
   "execution_count": 3,
   "metadata": {
    "collapsed": false,
    "jupyter": {
     "outputs_hidden": false
    }
   },
   "outputs": [],
   "source": [
    "power_plants = {\n",
    "    \"SA\": {\"coal\": 35000, \"wind\": 3000, \"gas\": 8000, \"oil\": 2000},\n",
    "    \"MZ\": {\"hydro\": 1200, \"gas\": 500},\n",
    "    \"ES\": {\"hydro\": 600}\n",
    "}"
   ]
  },
  {
   "cell_type": "code",
   "execution_count": 4,
   "metadata": {
    "collapsed": false,
    "jupyter": {
     "outputs_hidden": false
    }
   },
   "outputs": [],
   "source": [
    "loads = {\n",
    "    \"SA\": 42000,\n",
    "    \"MZ\": 650,\n",
    "    \"ES\": 250\n",
    "}"
   ]
  },
  {
   "cell_type": "code",
   "execution_count": 5,
   "metadata": {
    "collapsed": false,
    "jupyter": {
     "outputs_hidden": false
    }
   },
   "outputs": [],
   "source": [
    "marginal_costs = {\n",
    "    \"SA\": {\"coal\": 30, \"wind\": 0, \"gas\": 60, \"oil\": 80, \"hydro\":0},\n",
    "    \"MZ\": {\"hydro\": 3, \"gas\": 55, \"coal\": 0, \"wind\": 0, \"oil\": 0},\n",
    "    \"ES\": {\"hydro\": 5, \"gas\": 0, \"coal\": 0, \"wind\": 0, \"oil\": 0}\n",
    "}"
   ]
  },
  {
   "cell_type": "code",
   "execution_count": 6,
   "metadata": {
    "collapsed": false,
    "jupyter": {
     "outputs_hidden": false
    }
   },
   "outputs": [],
   "source": [
    "flows = {\n",
    "    \"SA-MZ\": 500,\n",
    "    \"MZ-ES\": 100,\n",
    "    \"SA-ES\": 250\n",
    "}"
   ]
  },
  {
   "cell_type": "code",
   "execution_count": 7,
   "metadata": {
    "collapsed": false,
    "jupyter": {
     "outputs_hidden": false
    }
   },
   "outputs": [],
   "source": [
    "technologies = [ 'coal','wind', 'oil', 'gas', 'hydro']"
   ]
  },
  {
   "cell_type": "markdown",
   "metadata": {},
   "source": [
    "### (b) PYPSA Method"
   ]
  },
  {
   "cell_type": "markdown",
   "metadata": {},
   "source": [
    "#### (i)"
   ]
  },
  {
   "cell_type": "code",
   "execution_count": 8,
   "metadata": {
    "collapsed": false,
    "jupyter": {
     "outputs_hidden": false
    }
   },
   "outputs": [],
   "source": [
    "n = pyp.Network() # Creating empty network"
   ]
  },
  {
   "cell_type": "markdown",
   "metadata": {},
   "source": [
    "#### (ii)"
   ]
  },
  {
   "cell_type": "code",
   "execution_count": 9,
   "metadata": {
    "collapsed": false,
    "jupyter": {
     "outputs_hidden": false
    }
   },
   "outputs": [],
   "source": [
    "# Adding buses for each country\n",
    "n.add(\"Bus\", \"SA\")\n",
    "n.add(\"Bus\", \"MZ\")\n",
    "n.add(\"Bus\", \"ES\")"
   ]
  },
  {
   "cell_type": "code",
   "execution_count": 10,
   "metadata": {
    "collapsed": false,
    "jupyter": {
     "outputs_hidden": false
    }
   },
   "outputs": [
    {
     "data": {
      "text/html": [
       "<div>\n",
       "<style scoped>\n",
       "    .dataframe tbody tr th:only-of-type {\n",
       "        vertical-align: middle;\n",
       "    }\n",
       "\n",
       "    .dataframe tbody tr th {\n",
       "        vertical-align: top;\n",
       "    }\n",
       "\n",
       "    .dataframe thead th {\n",
       "        text-align: right;\n",
       "    }\n",
       "</style>\n",
       "<table border=\"1\" class=\"dataframe\">\n",
       "  <thead>\n",
       "    <tr style=\"text-align: right;\">\n",
       "      <th>attribute</th>\n",
       "      <th>bus</th>\n",
       "      <th>control</th>\n",
       "      <th>type</th>\n",
       "      <th>p_nom</th>\n",
       "      <th>p_nom_extendable</th>\n",
       "      <th>p_nom_min</th>\n",
       "      <th>p_nom_max</th>\n",
       "      <th>p_min_pu</th>\n",
       "      <th>p_max_pu</th>\n",
       "      <th>p_set</th>\n",
       "      <th>...</th>\n",
       "      <th>shut_down_cost</th>\n",
       "      <th>min_up_time</th>\n",
       "      <th>min_down_time</th>\n",
       "      <th>up_time_before</th>\n",
       "      <th>down_time_before</th>\n",
       "      <th>ramp_limit_up</th>\n",
       "      <th>ramp_limit_down</th>\n",
       "      <th>ramp_limit_start_up</th>\n",
       "      <th>ramp_limit_shut_down</th>\n",
       "      <th>p_nom_opt</th>\n",
       "    </tr>\n",
       "    <tr>\n",
       "      <th>Generator</th>\n",
       "      <th></th>\n",
       "      <th></th>\n",
       "      <th></th>\n",
       "      <th></th>\n",
       "      <th></th>\n",
       "      <th></th>\n",
       "      <th></th>\n",
       "      <th></th>\n",
       "      <th></th>\n",
       "      <th></th>\n",
       "      <th></th>\n",
       "      <th></th>\n",
       "      <th></th>\n",
       "      <th></th>\n",
       "      <th></th>\n",
       "      <th></th>\n",
       "      <th></th>\n",
       "      <th></th>\n",
       "      <th></th>\n",
       "      <th></th>\n",
       "      <th></th>\n",
       "    </tr>\n",
       "  </thead>\n",
       "  <tbody>\n",
       "    <tr>\n",
       "      <th>SA coal</th>\n",
       "      <td>SA</td>\n",
       "      <td>PQ</td>\n",
       "      <td></td>\n",
       "      <td>35000.0</td>\n",
       "      <td>False</td>\n",
       "      <td>0.0</td>\n",
       "      <td>inf</td>\n",
       "      <td>0.0</td>\n",
       "      <td>1.0</td>\n",
       "      <td>0.0</td>\n",
       "      <td>...</td>\n",
       "      <td>0.0</td>\n",
       "      <td>0</td>\n",
       "      <td>0</td>\n",
       "      <td>1</td>\n",
       "      <td>0</td>\n",
       "      <td>NaN</td>\n",
       "      <td>NaN</td>\n",
       "      <td>1.0</td>\n",
       "      <td>1.0</td>\n",
       "      <td>0.0</td>\n",
       "    </tr>\n",
       "    <tr>\n",
       "      <th>SA wind</th>\n",
       "      <td>SA</td>\n",
       "      <td>PQ</td>\n",
       "      <td></td>\n",
       "      <td>3000.0</td>\n",
       "      <td>False</td>\n",
       "      <td>0.0</td>\n",
       "      <td>inf</td>\n",
       "      <td>0.0</td>\n",
       "      <td>1.0</td>\n",
       "      <td>0.0</td>\n",
       "      <td>...</td>\n",
       "      <td>0.0</td>\n",
       "      <td>0</td>\n",
       "      <td>0</td>\n",
       "      <td>1</td>\n",
       "      <td>0</td>\n",
       "      <td>NaN</td>\n",
       "      <td>NaN</td>\n",
       "      <td>1.0</td>\n",
       "      <td>1.0</td>\n",
       "      <td>0.0</td>\n",
       "    </tr>\n",
       "    <tr>\n",
       "      <th>SA gas</th>\n",
       "      <td>SA</td>\n",
       "      <td>PQ</td>\n",
       "      <td></td>\n",
       "      <td>8000.0</td>\n",
       "      <td>False</td>\n",
       "      <td>0.0</td>\n",
       "      <td>inf</td>\n",
       "      <td>0.0</td>\n",
       "      <td>1.0</td>\n",
       "      <td>0.0</td>\n",
       "      <td>...</td>\n",
       "      <td>0.0</td>\n",
       "      <td>0</td>\n",
       "      <td>0</td>\n",
       "      <td>1</td>\n",
       "      <td>0</td>\n",
       "      <td>NaN</td>\n",
       "      <td>NaN</td>\n",
       "      <td>1.0</td>\n",
       "      <td>1.0</td>\n",
       "      <td>0.0</td>\n",
       "    </tr>\n",
       "    <tr>\n",
       "      <th>SA oil</th>\n",
       "      <td>SA</td>\n",
       "      <td>PQ</td>\n",
       "      <td></td>\n",
       "      <td>2000.0</td>\n",
       "      <td>False</td>\n",
       "      <td>0.0</td>\n",
       "      <td>inf</td>\n",
       "      <td>0.0</td>\n",
       "      <td>1.0</td>\n",
       "      <td>0.0</td>\n",
       "      <td>...</td>\n",
       "      <td>0.0</td>\n",
       "      <td>0</td>\n",
       "      <td>0</td>\n",
       "      <td>1</td>\n",
       "      <td>0</td>\n",
       "      <td>NaN</td>\n",
       "      <td>NaN</td>\n",
       "      <td>1.0</td>\n",
       "      <td>1.0</td>\n",
       "      <td>0.0</td>\n",
       "    </tr>\n",
       "    <tr>\n",
       "      <th>MZ hydro</th>\n",
       "      <td>MZ</td>\n",
       "      <td>PQ</td>\n",
       "      <td></td>\n",
       "      <td>1200.0</td>\n",
       "      <td>False</td>\n",
       "      <td>0.0</td>\n",
       "      <td>inf</td>\n",
       "      <td>0.0</td>\n",
       "      <td>1.0</td>\n",
       "      <td>0.0</td>\n",
       "      <td>...</td>\n",
       "      <td>0.0</td>\n",
       "      <td>0</td>\n",
       "      <td>0</td>\n",
       "      <td>1</td>\n",
       "      <td>0</td>\n",
       "      <td>NaN</td>\n",
       "      <td>NaN</td>\n",
       "      <td>1.0</td>\n",
       "      <td>1.0</td>\n",
       "      <td>0.0</td>\n",
       "    </tr>\n",
       "    <tr>\n",
       "      <th>MZ gas</th>\n",
       "      <td>MZ</td>\n",
       "      <td>PQ</td>\n",
       "      <td></td>\n",
       "      <td>500.0</td>\n",
       "      <td>False</td>\n",
       "      <td>0.0</td>\n",
       "      <td>inf</td>\n",
       "      <td>0.0</td>\n",
       "      <td>1.0</td>\n",
       "      <td>0.0</td>\n",
       "      <td>...</td>\n",
       "      <td>0.0</td>\n",
       "      <td>0</td>\n",
       "      <td>0</td>\n",
       "      <td>1</td>\n",
       "      <td>0</td>\n",
       "      <td>NaN</td>\n",
       "      <td>NaN</td>\n",
       "      <td>1.0</td>\n",
       "      <td>1.0</td>\n",
       "      <td>0.0</td>\n",
       "    </tr>\n",
       "    <tr>\n",
       "      <th>ES hydro</th>\n",
       "      <td>ES</td>\n",
       "      <td>PQ</td>\n",
       "      <td></td>\n",
       "      <td>600.0</td>\n",
       "      <td>False</td>\n",
       "      <td>0.0</td>\n",
       "      <td>inf</td>\n",
       "      <td>0.0</td>\n",
       "      <td>1.0</td>\n",
       "      <td>0.0</td>\n",
       "      <td>...</td>\n",
       "      <td>0.0</td>\n",
       "      <td>0</td>\n",
       "      <td>0</td>\n",
       "      <td>1</td>\n",
       "      <td>0</td>\n",
       "      <td>NaN</td>\n",
       "      <td>NaN</td>\n",
       "      <td>1.0</td>\n",
       "      <td>1.0</td>\n",
       "      <td>0.0</td>\n",
       "    </tr>\n",
       "  </tbody>\n",
       "</table>\n",
       "<p>7 rows × 30 columns</p>\n",
       "</div>"
      ],
      "text/plain": [
       "attribute bus control type    p_nom  p_nom_extendable  p_nom_min  p_nom_max  \\\n",
       "Generator                                                                     \n",
       "SA coal    SA      PQ       35000.0             False        0.0        inf   \n",
       "SA wind    SA      PQ        3000.0             False        0.0        inf   \n",
       "SA gas     SA      PQ        8000.0             False        0.0        inf   \n",
       "SA oil     SA      PQ        2000.0             False        0.0        inf   \n",
       "MZ hydro   MZ      PQ        1200.0             False        0.0        inf   \n",
       "MZ gas     MZ      PQ         500.0             False        0.0        inf   \n",
       "ES hydro   ES      PQ         600.0             False        0.0        inf   \n",
       "\n",
       "attribute  p_min_pu  p_max_pu  p_set  ...  shut_down_cost  min_up_time  \\\n",
       "Generator                             ...                                \n",
       "SA coal         0.0       1.0    0.0  ...             0.0            0   \n",
       "SA wind         0.0       1.0    0.0  ...             0.0            0   \n",
       "SA gas          0.0       1.0    0.0  ...             0.0            0   \n",
       "SA oil          0.0       1.0    0.0  ...             0.0            0   \n",
       "MZ hydro        0.0       1.0    0.0  ...             0.0            0   \n",
       "MZ gas          0.0       1.0    0.0  ...             0.0            0   \n",
       "ES hydro        0.0       1.0    0.0  ...             0.0            0   \n",
       "\n",
       "attribute min_down_time  up_time_before  down_time_before  ramp_limit_up  \\\n",
       "Generator                                                                  \n",
       "SA coal               0               1                 0            NaN   \n",
       "SA wind               0               1                 0            NaN   \n",
       "SA gas                0               1                 0            NaN   \n",
       "SA oil                0               1                 0            NaN   \n",
       "MZ hydro              0               1                 0            NaN   \n",
       "MZ gas                0               1                 0            NaN   \n",
       "ES hydro              0               1                 0            NaN   \n",
       "\n",
       "attribute  ramp_limit_down  ramp_limit_start_up  ramp_limit_shut_down  \\\n",
       "Generator                                                               \n",
       "SA coal                NaN                  1.0                   1.0   \n",
       "SA wind                NaN                  1.0                   1.0   \n",
       "SA gas                 NaN                  1.0                   1.0   \n",
       "SA oil                 NaN                  1.0                   1.0   \n",
       "MZ hydro               NaN                  1.0                   1.0   \n",
       "MZ gas                 NaN                  1.0                   1.0   \n",
       "ES hydro               NaN                  1.0                   1.0   \n",
       "\n",
       "attribute  p_nom_opt  \n",
       "Generator             \n",
       "SA coal          0.0  \n",
       "SA wind          0.0  \n",
       "SA gas           0.0  \n",
       "SA oil           0.0  \n",
       "MZ hydro         0.0  \n",
       "MZ gas           0.0  \n",
       "ES hydro         0.0  \n",
       "\n",
       "[7 rows x 30 columns]"
      ]
     },
     "execution_count": 10,
     "metadata": {},
     "output_type": "execute_result"
    }
   ],
   "source": [
    "# Adding the list of generators\n",
    "for key in power_plants.keys():\n",
    "    for tech, p_nom in power_plants[key].items():\n",
    "        n.add(\"Generator\",\n",
    "              f\"{key} {tech}\",\n",
    "              bus=key,\n",
    "              carrier=tech,\n",
    "              p_nom=p_nom,\n",
    "              marginal_cost=marginal_costs[key][tech]\n",
    "              )\n",
    "n.generators"
   ]
  },
  {
   "cell_type": "code",
   "execution_count": 11,
   "metadata": {
    "collapsed": false,
    "jupyter": {
     "outputs_hidden": false
    }
   },
   "outputs": [
    {
     "data": {
      "text/html": [
       "<div>\n",
       "<style scoped>\n",
       "    .dataframe tbody tr th:only-of-type {\n",
       "        vertical-align: middle;\n",
       "    }\n",
       "\n",
       "    .dataframe tbody tr th {\n",
       "        vertical-align: top;\n",
       "    }\n",
       "\n",
       "    .dataframe thead th {\n",
       "        text-align: right;\n",
       "    }\n",
       "</style>\n",
       "<table border=\"1\" class=\"dataframe\">\n",
       "  <thead>\n",
       "    <tr style=\"text-align: right;\">\n",
       "      <th>attribute</th>\n",
       "      <th>bus</th>\n",
       "      <th>carrier</th>\n",
       "      <th>type</th>\n",
       "      <th>p_set</th>\n",
       "      <th>q_set</th>\n",
       "      <th>sign</th>\n",
       "    </tr>\n",
       "    <tr>\n",
       "      <th>Load</th>\n",
       "      <th></th>\n",
       "      <th></th>\n",
       "      <th></th>\n",
       "      <th></th>\n",
       "      <th></th>\n",
       "      <th></th>\n",
       "    </tr>\n",
       "  </thead>\n",
       "  <tbody>\n",
       "    <tr>\n",
       "      <th>SA electricity demand</th>\n",
       "      <td>SA</td>\n",
       "      <td>electricity</td>\n",
       "      <td></td>\n",
       "      <td>42000.0</td>\n",
       "      <td>0.0</td>\n",
       "      <td>-1.0</td>\n",
       "    </tr>\n",
       "    <tr>\n",
       "      <th>MZ electricity demand</th>\n",
       "      <td>MZ</td>\n",
       "      <td>electricity</td>\n",
       "      <td></td>\n",
       "      <td>650.0</td>\n",
       "      <td>0.0</td>\n",
       "      <td>-1.0</td>\n",
       "    </tr>\n",
       "    <tr>\n",
       "      <th>ES electricity demand</th>\n",
       "      <td>ES</td>\n",
       "      <td>electricity</td>\n",
       "      <td></td>\n",
       "      <td>250.0</td>\n",
       "      <td>0.0</td>\n",
       "      <td>-1.0</td>\n",
       "    </tr>\n",
       "  </tbody>\n",
       "</table>\n",
       "</div>"
      ],
      "text/plain": [
       "attribute             bus      carrier type    p_set  q_set  sign\n",
       "Load                                                             \n",
       "SA electricity demand  SA  electricity       42000.0    0.0  -1.0\n",
       "MZ electricity demand  MZ  electricity         650.0    0.0  -1.0\n",
       "ES electricity demand  ES  electricity         250.0    0.0  -1.0"
      ]
     },
     "execution_count": 11,
     "metadata": {},
     "output_type": "execute_result"
    }
   ],
   "source": [
    "# Adding country demands\n",
    "for key in power_plants.keys():\n",
    "    n.add(\"Load\",\n",
    "          f\"{key} electricity demand\",\n",
    "          bus=key,\n",
    "          p_set=loads[key],\n",
    "          carrier='electricity',\n",
    "          )\n",
    "n.loads"
   ]
  },
  {
   "cell_type": "code",
   "execution_count": 12,
   "metadata": {
    "collapsed": false,
    "jupyter": {
     "outputs_hidden": false
    }
   },
   "outputs": [
    {
     "data": {
      "text/html": [
       "<div>\n",
       "<style scoped>\n",
       "    .dataframe tbody tr th:only-of-type {\n",
       "        vertical-align: middle;\n",
       "    }\n",
       "\n",
       "    .dataframe tbody tr th {\n",
       "        vertical-align: top;\n",
       "    }\n",
       "\n",
       "    .dataframe thead th {\n",
       "        text-align: right;\n",
       "    }\n",
       "</style>\n",
       "<table border=\"1\" class=\"dataframe\">\n",
       "  <thead>\n",
       "    <tr style=\"text-align: right;\">\n",
       "      <th>attribute</th>\n",
       "      <th>bus0</th>\n",
       "      <th>bus1</th>\n",
       "      <th>type</th>\n",
       "      <th>x</th>\n",
       "      <th>r</th>\n",
       "      <th>g</th>\n",
       "      <th>b</th>\n",
       "      <th>s_nom</th>\n",
       "      <th>s_nom_extendable</th>\n",
       "      <th>s_nom_min</th>\n",
       "      <th>...</th>\n",
       "      <th>v_ang_min</th>\n",
       "      <th>v_ang_max</th>\n",
       "      <th>sub_network</th>\n",
       "      <th>x_pu</th>\n",
       "      <th>r_pu</th>\n",
       "      <th>g_pu</th>\n",
       "      <th>b_pu</th>\n",
       "      <th>x_pu_eff</th>\n",
       "      <th>r_pu_eff</th>\n",
       "      <th>s_nom_opt</th>\n",
       "    </tr>\n",
       "    <tr>\n",
       "      <th>Line</th>\n",
       "      <th></th>\n",
       "      <th></th>\n",
       "      <th></th>\n",
       "      <th></th>\n",
       "      <th></th>\n",
       "      <th></th>\n",
       "      <th></th>\n",
       "      <th></th>\n",
       "      <th></th>\n",
       "      <th></th>\n",
       "      <th></th>\n",
       "      <th></th>\n",
       "      <th></th>\n",
       "      <th></th>\n",
       "      <th></th>\n",
       "      <th></th>\n",
       "      <th></th>\n",
       "      <th></th>\n",
       "      <th></th>\n",
       "      <th></th>\n",
       "      <th></th>\n",
       "    </tr>\n",
       "  </thead>\n",
       "  <tbody>\n",
       "    <tr>\n",
       "      <th>SA-MZ</th>\n",
       "      <td>SA</td>\n",
       "      <td>MZ</td>\n",
       "      <td></td>\n",
       "      <td>1.0</td>\n",
       "      <td>0.0</td>\n",
       "      <td>0.0</td>\n",
       "      <td>0.0</td>\n",
       "      <td>500.0</td>\n",
       "      <td>False</td>\n",
       "      <td>0.0</td>\n",
       "      <td>...</td>\n",
       "      <td>-inf</td>\n",
       "      <td>inf</td>\n",
       "      <td></td>\n",
       "      <td>0.0</td>\n",
       "      <td>0.0</td>\n",
       "      <td>0.0</td>\n",
       "      <td>0.0</td>\n",
       "      <td>0.0</td>\n",
       "      <td>0.0</td>\n",
       "      <td>0.0</td>\n",
       "    </tr>\n",
       "    <tr>\n",
       "      <th>MZ-ES</th>\n",
       "      <td>MZ</td>\n",
       "      <td>ES</td>\n",
       "      <td></td>\n",
       "      <td>1.0</td>\n",
       "      <td>0.0</td>\n",
       "      <td>0.0</td>\n",
       "      <td>0.0</td>\n",
       "      <td>100.0</td>\n",
       "      <td>False</td>\n",
       "      <td>0.0</td>\n",
       "      <td>...</td>\n",
       "      <td>-inf</td>\n",
       "      <td>inf</td>\n",
       "      <td></td>\n",
       "      <td>0.0</td>\n",
       "      <td>0.0</td>\n",
       "      <td>0.0</td>\n",
       "      <td>0.0</td>\n",
       "      <td>0.0</td>\n",
       "      <td>0.0</td>\n",
       "      <td>0.0</td>\n",
       "    </tr>\n",
       "    <tr>\n",
       "      <th>SA-ES</th>\n",
       "      <td>SA</td>\n",
       "      <td>ES</td>\n",
       "      <td></td>\n",
       "      <td>1.0</td>\n",
       "      <td>0.0</td>\n",
       "      <td>0.0</td>\n",
       "      <td>0.0</td>\n",
       "      <td>250.0</td>\n",
       "      <td>False</td>\n",
       "      <td>0.0</td>\n",
       "      <td>...</td>\n",
       "      <td>-inf</td>\n",
       "      <td>inf</td>\n",
       "      <td></td>\n",
       "      <td>0.0</td>\n",
       "      <td>0.0</td>\n",
       "      <td>0.0</td>\n",
       "      <td>0.0</td>\n",
       "      <td>0.0</td>\n",
       "      <td>0.0</td>\n",
       "      <td>0.0</td>\n",
       "    </tr>\n",
       "  </tbody>\n",
       "</table>\n",
       "<p>3 rows × 29 columns</p>\n",
       "</div>"
      ],
      "text/plain": [
       "attribute bus0 bus1 type    x    r    g    b  s_nom  s_nom_extendable  \\\n",
       "Line                                                                    \n",
       "SA-MZ       SA   MZ       1.0  0.0  0.0  0.0  500.0             False   \n",
       "MZ-ES       MZ   ES       1.0  0.0  0.0  0.0  100.0             False   \n",
       "SA-ES       SA   ES       1.0  0.0  0.0  0.0  250.0             False   \n",
       "\n",
       "attribute  s_nom_min  ...  v_ang_min  v_ang_max  sub_network  x_pu  r_pu  \\\n",
       "Line                  ...                                                  \n",
       "SA-MZ            0.0  ...       -inf        inf                0.0   0.0   \n",
       "MZ-ES            0.0  ...       -inf        inf                0.0   0.0   \n",
       "SA-ES            0.0  ...       -inf        inf                0.0   0.0   \n",
       "\n",
       "attribute  g_pu b_pu  x_pu_eff  r_pu_eff  s_nom_opt  \n",
       "Line                                                 \n",
       "SA-MZ       0.0  0.0       0.0       0.0        0.0  \n",
       "MZ-ES       0.0  0.0       0.0       0.0        0.0  \n",
       "SA-ES       0.0  0.0       0.0       0.0        0.0  \n",
       "\n",
       "[3 rows x 29 columns]"
      ]
     },
     "execution_count": 12,
     "metadata": {},
     "output_type": "execute_result"
    }
   ],
   "source": [
    "# Adding transmission lines\n",
    "for key in flows.keys():\n",
    "    n.add(\"Line\",\n",
    "          f\"{key}\",\n",
    "          bus0=key[:2],\n",
    "          bus1=key[-2:],\n",
    "          s_nom=flows[key],\n",
    "          x=1\n",
    "          )\n",
    "n.lines"
   ]
  },
  {
   "cell_type": "markdown",
   "metadata": {},
   "source": [
    "#### (iii)"
   ]
  },
  {
   "cell_type": "code",
   "execution_count": 13,
   "metadata": {
    "collapsed": false,
    "jupyter": {
     "outputs_hidden": false
    }
   },
   "outputs": [
    {
     "name": "stderr",
     "output_type": "stream",
     "text": [
      "WARNING:pypsa.components:Solving optimisation problem with pyomo.In PyPSA version 0.21 the default will change to ``n.lopf(pyomo=False)``.Explicitly set ``n.lopf(pyomo=True)`` to retain current behaviour.\n",
      "INFO:pypsa.opf:Performed preliminary steps\n",
      "INFO:pypsa.opf:Building pyomo model using `kirchhoff` formulation\n",
      "INFO:pypsa.opf:Solving model using glpk\n",
      "INFO:pypsa.opf:Optimization successful\n"
     ]
    },
    {
     "name": "stdout",
     "output_type": "stream",
     "text": [
      "# ==========================================================\n",
      "# = Solver Results                                         =\n",
      "# ==========================================================\n",
      "# ----------------------------------------------------------\n",
      "#   Problem Information\n",
      "# ----------------------------------------------------------\n",
      "Problem: \n",
      "- Name: unknown\n",
      "  Lower bound: 1259300.0\n",
      "  Upper bound: 1259300.0\n",
      "  Number of objectives: 1\n",
      "  Number of constraints: 11\n",
      "  Number of variables: 11\n",
      "  Number of nonzeros: 23\n",
      "  Sense: minimize\n",
      "# ----------------------------------------------------------\n",
      "#   Solver Information\n",
      "# ----------------------------------------------------------\n",
      "Solver: \n",
      "- Status: ok\n",
      "  Termination condition: optimal\n",
      "  Statistics: \n",
      "    Branch and bound: \n",
      "      Number of bounded subproblems: 0\n",
      "      Number of created subproblems: 0\n",
      "  Error rc: 0\n",
      "  Time: 0.03345346450805664\n",
      "# ----------------------------------------------------------\n",
      "#   Solution Information\n",
      "# ----------------------------------------------------------\n",
      "Solution: \n",
      "- number of solutions: 0\n",
      "  number of solutions displayed: 0\n"
     ]
    },
    {
     "data": {
      "text/plain": [
       "(<SolverStatus.ok: 'ok'>, <TerminationCondition.optimal: 'optimal'>)"
      ]
     },
     "execution_count": 13,
     "metadata": {},
     "output_type": "execute_result"
    }
   ],
   "source": [
    "n.lopf(solver_name='glpk') # Solving using glpk solver"
   ]
  },
  {
   "cell_type": "markdown",
   "metadata": {},
   "source": [
    "#### (iv) Pypsa Results"
   ]
  },
  {
   "cell_type": "code",
   "execution_count": 14,
   "metadata": {
    "collapsed": false,
    "jupyter": {
     "outputs_hidden": false
    }
   },
   "outputs": [
    {
     "name": "stdout",
     "output_type": "stream",
     "text": [
      "The generator dispatch for each powerplant is as follows (MW)\n"
     ]
    },
    {
     "data": {
      "text/html": [
       "<div>\n",
       "<style scoped>\n",
       "    .dataframe tbody tr th:only-of-type {\n",
       "        vertical-align: middle;\n",
       "    }\n",
       "\n",
       "    .dataframe tbody tr th {\n",
       "        vertical-align: top;\n",
       "    }\n",
       "\n",
       "    .dataframe thead th {\n",
       "        text-align: right;\n",
       "    }\n",
       "</style>\n",
       "<table border=\"1\" class=\"dataframe\">\n",
       "  <thead>\n",
       "    <tr style=\"text-align: right;\">\n",
       "      <th>Generator</th>\n",
       "      <th>SA coal</th>\n",
       "      <th>SA wind</th>\n",
       "      <th>SA gas</th>\n",
       "      <th>SA oil</th>\n",
       "      <th>MZ hydro</th>\n",
       "      <th>MZ gas</th>\n",
       "      <th>ES hydro</th>\n",
       "    </tr>\n",
       "    <tr>\n",
       "      <th>snapshot</th>\n",
       "      <th></th>\n",
       "      <th></th>\n",
       "      <th></th>\n",
       "      <th></th>\n",
       "      <th></th>\n",
       "      <th></th>\n",
       "      <th></th>\n",
       "    </tr>\n",
       "  </thead>\n",
       "  <tbody>\n",
       "    <tr>\n",
       "      <th>now</th>\n",
       "      <td>35000.0</td>\n",
       "      <td>3000.0</td>\n",
       "      <td>3400.0</td>\n",
       "      <td>0.0</td>\n",
       "      <td>1100.0</td>\n",
       "      <td>0.0</td>\n",
       "      <td>400.0</td>\n",
       "    </tr>\n",
       "  </tbody>\n",
       "</table>\n",
       "</div>"
      ],
      "text/plain": [
       "Generator  SA coal  SA wind  SA gas  SA oil  MZ hydro  MZ gas  ES hydro\n",
       "snapshot                                                               \n",
       "now        35000.0   3000.0  3400.0     0.0    1100.0     0.0     400.0"
      ]
     },
     "execution_count": 14,
     "metadata": {},
     "output_type": "execute_result"
    }
   ],
   "source": [
    "print (\"The generator dispatch for each powerplant is as follows (MW)\")\n",
    "pypsagen = n.generators_t.p\n",
    "pypsagen"
   ]
  },
  {
   "cell_type": "code",
   "execution_count": 15,
   "metadata": {
    "collapsed": false,
    "jupyter": {
     "outputs_hidden": false
    }
   },
   "outputs": [
    {
     "name": "stdout",
     "output_type": "stream",
     "text": [
      "The power flows between countries is as follows (MW). Negative values means the flow is in opposite direction\n"
     ]
    },
    {
     "data": {
      "text/html": [
       "<div>\n",
       "<style scoped>\n",
       "    .dataframe tbody tr th:only-of-type {\n",
       "        vertical-align: middle;\n",
       "    }\n",
       "\n",
       "    .dataframe tbody tr th {\n",
       "        vertical-align: top;\n",
       "    }\n",
       "\n",
       "    .dataframe thead th {\n",
       "        text-align: right;\n",
       "    }\n",
       "</style>\n",
       "<table border=\"1\" class=\"dataframe\">\n",
       "  <thead>\n",
       "    <tr style=\"text-align: right;\">\n",
       "      <th>Line</th>\n",
       "      <th>SA-MZ</th>\n",
       "      <th>MZ-ES</th>\n",
       "      <th>SA-ES</th>\n",
       "    </tr>\n",
       "    <tr>\n",
       "      <th>snapshot</th>\n",
       "      <th></th>\n",
       "      <th></th>\n",
       "      <th></th>\n",
       "    </tr>\n",
       "  </thead>\n",
       "  <tbody>\n",
       "    <tr>\n",
       "      <th>now</th>\n",
       "      <td>-350.0</td>\n",
       "      <td>100.0</td>\n",
       "      <td>-250.0</td>\n",
       "    </tr>\n",
       "  </tbody>\n",
       "</table>\n",
       "</div>"
      ],
      "text/plain": [
       "Line      SA-MZ  MZ-ES  SA-ES\n",
       "snapshot                     \n",
       "now      -350.0  100.0 -250.0"
      ]
     },
     "execution_count": 15,
     "metadata": {},
     "output_type": "execute_result"
    }
   ],
   "source": [
    "print (\"The power flows between countries is as follows (MW). Negative values means the flow is in opposite direction\")\n",
    "n.lines_t.p0"
   ]
  },
  {
   "cell_type": "code",
   "execution_count": 16,
   "metadata": {
    "collapsed": false,
    "jupyter": {
     "outputs_hidden": false
    }
   },
   "outputs": [
    {
     "name": "stdout",
     "output_type": "stream",
     "text": [
      "The total cost of the system is 1.2593 million €\n"
     ]
    }
   ],
   "source": [
    "y = (n.generators_t.p * n.generators.marginal_cost)\n",
    "pypsacost = sum(y.sum())/1e6\n",
    "print (\"The total cost of the system is %.4f million €\" % pypsacost)"
   ]
  },
  {
   "cell_type": "code",
   "execution_count": 17,
   "metadata": {
    "collapsed": false,
    "jupyter": {
     "outputs_hidden": false
    }
   },
   "outputs": [
    {
     "name": "stdout",
     "output_type": "stream",
     "text": [
      "The market price for each country is as follows (€/MWh)\n"
     ]
    },
    {
     "data": {
      "text/html": [
       "<div>\n",
       "<style scoped>\n",
       "    .dataframe tbody tr th:only-of-type {\n",
       "        vertical-align: middle;\n",
       "    }\n",
       "\n",
       "    .dataframe tbody tr th {\n",
       "        vertical-align: top;\n",
       "    }\n",
       "\n",
       "    .dataframe thead th {\n",
       "        text-align: right;\n",
       "    }\n",
       "</style>\n",
       "<table border=\"1\" class=\"dataframe\">\n",
       "  <thead>\n",
       "    <tr style=\"text-align: right;\">\n",
       "      <th>Bus</th>\n",
       "      <th>SA</th>\n",
       "      <th>MZ</th>\n",
       "      <th>ES</th>\n",
       "    </tr>\n",
       "    <tr>\n",
       "      <th>snapshot</th>\n",
       "      <th></th>\n",
       "      <th></th>\n",
       "      <th></th>\n",
       "    </tr>\n",
       "  </thead>\n",
       "  <tbody>\n",
       "    <tr>\n",
       "      <th>now</th>\n",
       "      <td>60.0</td>\n",
       "      <td>3.0</td>\n",
       "      <td>5.0</td>\n",
       "    </tr>\n",
       "  </tbody>\n",
       "</table>\n",
       "</div>"
      ],
      "text/plain": [
       "Bus         SA   MZ   ES\n",
       "snapshot                \n",
       "now       60.0  3.0  5.0"
      ]
     },
     "execution_count": 17,
     "metadata": {},
     "output_type": "execute_result"
    }
   ],
   "source": [
    "print(\"The market price for each country is as follows (€/MWh)\")\n",
    "pypsaprice = n.buses_t.marginal_price\n",
    "pypsaprice"
   ]
  },
  {
   "cell_type": "markdown",
   "metadata": {},
   "source": [
    "### (a) Pyomo Method"
   ]
  },
  {
   "cell_type": "code",
   "execution_count": 45,
   "metadata": {
    "collapsed": false,
    "jupyter": {
     "outputs_hidden": false
    }
   },
   "outputs": [],
   "source": [
    "# Creating an empty model and calling for shadow values and intializing sets\n",
    "m = pe.ConcreteModel()\n",
    "m.dual = pe.Suffix(direction=pe.Suffix.IMPORT)"
   ]
  },
  {
   "cell_type": "code",
   "execution_count": 46,
   "metadata": {
    "collapsed": false,
    "jupyter": {
     "outputs_hidden": false
    }
   },
   "outputs": [],
   "source": [
    "m.countries = pe.Set(initialize=loads.keys())\n",
    "m.technologies = pe.Set(initialize=technologies)"
   ]
  },
  {
   "cell_type": "code",
   "execution_count": 47,
   "metadata": {
    "collapsed": false,
    "jupyter": {
     "outputs_hidden": false
    }
   },
   "outputs": [],
   "source": [
    "# Creating variable for Generator Dispatch\n",
    "m.gendispatch = pe.Var(m.countries, m.technologies, within=pe.NonNegativeReals)"
   ]
  },
  {
   "cell_type": "code",
   "execution_count": 21,
   "metadata": {
    "collapsed": false,
    "jupyter": {
     "outputs_hidden": false
    }
   },
   "outputs": [],
   "source": [
    "# Variable for each flow\n",
    "m.f1 = pe.Var()\n",
    "m.f2 = pe.Var()\n",
    "m.f3 = pe.Var()"
   ]
  },
  {
   "cell_type": "code",
   "execution_count": 22,
   "metadata": {
    "collapsed": false,
    "jupyter": {
     "outputs_hidden": false
    }
   },
   "outputs": [
    {
     "name": "stdout",
     "output_type": "stream",
     "text": [
      "sa_mo : Size=1, Index=None, Active=True\n",
      "    Key  : Lower  : Body : Upper : Active\n",
      "    None : -500.0 :   f1 : 500.0 :   True\n",
      "mo_es : Size=1, Index=None, Active=True\n",
      "    Key  : Lower  : Body : Upper : Active\n",
      "    None : -100.0 :   f2 : 100.0 :   True\n",
      "sa_es : Size=1, Index=None, Active=True\n",
      "    Key  : Lower  : Body : Upper : Active\n",
      "    None : -250.0 :   f3 : 250.0 :   True\n"
     ]
    }
   ],
   "source": [
    "# Creating transmission constraint for each flow\n",
    "m.sa_mo = pe.Constraint(expr=(-500, m.f1, 500))\n",
    "m.mo_es = pe.Constraint(expr=(-100, m.f2, 100))\n",
    "m.sa_es = pe.Constraint(expr=(-250, m.f3, 250))\n",
    "\n",
    "m.sa_mo.pprint()\n",
    "m.mo_es.pprint()\n",
    "m.sa_es.pprint()"
   ]
  },
  {
   "cell_type": "code",
   "execution_count": 44,
   "metadata": {
    "collapsed": false,
    "jupyter": {
     "outputs_hidden": false
    }
   },
   "outputs": [
    {
     "data": {
      "image/jpeg": "[encoded data removed]",
      "text/plain": [
       "<IPython.core.display.Image object>"
      ]
     },
     "execution_count": 44,
     "metadata": {
      "image/jpeg": {
       "height": 300,
       "width": 300
      }
     },
     "output_type": "execute_result"
    }
   ],
   "source": [
    "from IPython import display\n",
    "display.Image(\"https://i.imgur.com/rfXTc7q.jpg\", width=300, height=300)"
   ]
  },
  {
   "cell_type": "markdown",
   "metadata": {},
   "source": [
    "Consider above diagram for the KVL & KCL constraints defined below"
   ]
  },
  {
   "cell_type": "code",
   "execution_count": 24,
   "metadata": {
    "collapsed": false,
    "jupyter": {
     "outputs_hidden": false
    }
   },
   "outputs": [
    {
     "name": "stdout",
     "output_type": "stream",
     "text": [
      "kcl : Size=3, Index=countries, Active=True\n",
      "    Key : Lower   : Body                                                                                                                      : Upper   : Active\n",
      "     ES :   250.0 : gendispatch[ES,coal] + gendispatch[ES,wind] + gendispatch[ES,oil] + gendispatch[ES,gas] + gendispatch[ES,hydro] + f2 + f3 :   250.0 :   True\n",
      "     MZ :   650.0 : gendispatch[MZ,coal] + gendispatch[MZ,wind] + gendispatch[MZ,oil] + gendispatch[MZ,gas] + gendispatch[MZ,hydro] + f1 - f2 :   650.0 :   True\n",
      "     SA : 42000.0 : gendispatch[SA,coal] + gendispatch[SA,wind] + gendispatch[SA,oil] + gendispatch[SA,gas] + gendispatch[SA,hydro] - f1 - f3 : 42000.0 :   True\n"
     ]
    }
   ],
   "source": [
    "# Creating KCL constraints for each country\n",
    "@m.Constraint(m.countries)\n",
    "def kcl(m, c):\n",
    "    if c == \"SA\":\n",
    "        return sum(m.gendispatch[c,s] for s in m.technologies) - m.f1 - m.f3 == loads[c]\n",
    "    if c == \"MZ\":\n",
    "        return sum(m.gendispatch[c,s] for s in m.technologies) + m.f1 - m.f2 == loads[c]\n",
    "    if c == \"ES\":\n",
    "        return sum(m.gendispatch[c,s] for s in m.technologies) + m.f2 + m.f3 == loads[c]\n",
    "\n",
    "m.kcl.pprint()"
   ]
  },
  {
   "cell_type": "code",
   "execution_count": 25,
   "metadata": {
    "collapsed": false,
    "jupyter": {
     "outputs_hidden": false
    }
   },
   "outputs": [
    {
     "name": "stdout",
     "output_type": "stream",
     "text": [
      "kvl : Size=1, Index=None, Active=True\n",
      "    Key  : Lower : Body         : Upper : Active\n",
      "    None :   0.0 : f3 - f2 - f1 :   0.0 :   True\n"
     ]
    }
   ],
   "source": [
    "# Creating KVL constraint for the system\n",
    "m.kvl = pe.Constraint(expr= m.f3 - m.f2 -m.f1 == 0)\n",
    "m.kvl.pprint()"
   ]
  },
  {
   "cell_type": "code",
   "execution_count": 26,
   "metadata": {
    "collapsed": false,
    "jupyter": {
     "outputs_hidden": false
    }
   },
   "outputs": [
    {
     "name": "stdout",
     "output_type": "stream",
     "text": [
      "generator_limit : Size=15, Index=generator_limit_index, Active=True\n",
      "    Key             : Lower : Body                  : Upper   : Active\n",
      "     ('ES', 'coal') :  -Inf :  gendispatch[ES,coal] :     0.0 :   True\n",
      "      ('ES', 'gas') :  -Inf :   gendispatch[ES,gas] :     0.0 :   True\n",
      "    ('ES', 'hydro') :  -Inf : gendispatch[ES,hydro] :   600.0 :   True\n",
      "      ('ES', 'oil') :  -Inf :   gendispatch[ES,oil] :     0.0 :   True\n",
      "     ('ES', 'wind') :  -Inf :  gendispatch[ES,wind] :     0.0 :   True\n",
      "     ('MZ', 'coal') :  -Inf :  gendispatch[MZ,coal] :     0.0 :   True\n",
      "      ('MZ', 'gas') :  -Inf :   gendispatch[MZ,gas] :   500.0 :   True\n",
      "    ('MZ', 'hydro') :  -Inf : gendispatch[MZ,hydro] :  1200.0 :   True\n",
      "      ('MZ', 'oil') :  -Inf :   gendispatch[MZ,oil] :     0.0 :   True\n",
      "     ('MZ', 'wind') :  -Inf :  gendispatch[MZ,wind] :     0.0 :   True\n",
      "     ('SA', 'coal') :  -Inf :  gendispatch[SA,coal] : 35000.0 :   True\n",
      "      ('SA', 'gas') :  -Inf :   gendispatch[SA,gas] :  8000.0 :   True\n",
      "    ('SA', 'hydro') :  -Inf : gendispatch[SA,hydro] :     0.0 :   True\n",
      "      ('SA', 'oil') :  -Inf :   gendispatch[SA,oil] :  2000.0 :   True\n",
      "     ('SA', 'wind') :  -Inf :  gendispatch[SA,wind] :  3000.0 :   True\n"
     ]
    }
   ],
   "source": [
    "# Creating constraint for capacity for each generator\n",
    "@m.Constraint(m.countries, m.technologies)\n",
    "def generator_limit(m, c, s):\n",
    "    return m.gendispatch[c,s] <= power_plants[c].get(s, 0)\n",
    "\n",
    "m.generator_limit.pprint()"
   ]
  },
  {
   "cell_type": "code",
   "execution_count": 27,
   "metadata": {
    "collapsed": false,
    "jupyter": {
     "outputs_hidden": false
    }
   },
   "outputs": [
    {
     "name": "stdout",
     "output_type": "stream",
     "text": [
      "cost : Size=1, Index=None, Active=True\n",
      "    Key  : Active : Sense    : Expression\n",
      "    None :   True : minimize : 30*gendispatch[SA,coal] + 80*gendispatch[SA,oil] + 60*gendispatch[SA,gas] + 55*gendispatch[MZ,gas] + 3*gendispatch[MZ,hydro] + 5*gendispatch[ES,hydro]\n"
     ]
    }
   ],
   "source": [
    "# Creating objective function to minimize costs for the entire system\n",
    "m.cost = pe.Objective(expr=sum(marginal_costs[c][s] * m.gendispatch[c,s] for s in m.technologies for c in m.countries))\n",
    "m.cost.pprint()"
   ]
  },
  {
   "cell_type": "code",
   "execution_count": 28,
   "metadata": {
    "collapsed": false,
    "jupyter": {
     "outputs_hidden": false
    }
   },
   "outputs": [
    {
     "name": "stdout",
     "output_type": "stream",
     "text": [
      "# ==========================================================\n",
      "# = Solver Results                                         =\n",
      "# ==========================================================\n",
      "# ----------------------------------------------------------\n",
      "#   Problem Information\n",
      "# ----------------------------------------------------------\n",
      "Problem: \n",
      "- Name: unknown\n",
      "  Lower bound: 1259300.0\n",
      "  Upper bound: 1259300.0\n",
      "  Number of objectives: 1\n",
      "  Number of constraints: 26\n",
      "  Number of variables: 19\n",
      "  Number of nonzeros: 46\n",
      "  Sense: minimize\n",
      "# ----------------------------------------------------------\n",
      "#   Solver Information\n",
      "# ----------------------------------------------------------\n",
      "Solver: \n",
      "- Status: ok\n",
      "  Termination condition: optimal\n",
      "  Statistics: \n",
      "    Branch and bound: \n",
      "      Number of bounded subproblems: 0\n",
      "      Number of created subproblems: 0\n",
      "  Error rc: 0\n",
      "  Time: 0.03775835037231445\n",
      "# ----------------------------------------------------------\n",
      "#   Solution Information\n",
      "# ----------------------------------------------------------\n",
      "Solution: \n",
      "- number of solutions: 0\n",
      "  number of solutions displayed: 0\n"
     ]
    }
   ],
   "source": [
    "pe.SolverFactory('glpk').solve(m).write() #Solving using glpk solver"
   ]
  },
  {
   "cell_type": "markdown",
   "metadata": {},
   "source": [
    "#### (v) Pyomo Results"
   ]
  },
  {
   "cell_type": "code",
   "execution_count": 29,
   "metadata": {
    "collapsed": false,
    "jupyter": {
     "outputs_hidden": false
    }
   },
   "outputs": [
    {
     "name": "stdout",
     "output_type": "stream",
     "text": [
      "The generator dispatch for each powerplant is as follows (MW)\n"
     ]
    },
    {
     "data": {
      "text/html": [
       "<div>\n",
       "<style scoped>\n",
       "    .dataframe tbody tr th:only-of-type {\n",
       "        vertical-align: middle;\n",
       "    }\n",
       "\n",
       "    .dataframe tbody tr th {\n",
       "        vertical-align: top;\n",
       "    }\n",
       "\n",
       "    .dataframe thead th {\n",
       "        text-align: right;\n",
       "    }\n",
       "</style>\n",
       "<table border=\"1\" class=\"dataframe\">\n",
       "  <thead>\n",
       "    <tr style=\"text-align: right;\">\n",
       "      <th></th>\n",
       "      <th>coal</th>\n",
       "      <th>gas</th>\n",
       "      <th>hydro</th>\n",
       "      <th>oil</th>\n",
       "      <th>wind</th>\n",
       "    </tr>\n",
       "  </thead>\n",
       "  <tbody>\n",
       "    <tr>\n",
       "      <th>ES</th>\n",
       "      <td>0.0</td>\n",
       "      <td>0.0</td>\n",
       "      <td>400.0</td>\n",
       "      <td>0.0</td>\n",
       "      <td>0.0</td>\n",
       "    </tr>\n",
       "    <tr>\n",
       "      <th>MZ</th>\n",
       "      <td>0.0</td>\n",
       "      <td>0.0</td>\n",
       "      <td>1100.0</td>\n",
       "      <td>0.0</td>\n",
       "      <td>0.0</td>\n",
       "    </tr>\n",
       "    <tr>\n",
       "      <th>SA</th>\n",
       "      <td>35000.0</td>\n",
       "      <td>3400.0</td>\n",
       "      <td>0.0</td>\n",
       "      <td>0.0</td>\n",
       "      <td>3000.0</td>\n",
       "    </tr>\n",
       "  </tbody>\n",
       "</table>\n",
       "</div>"
      ],
      "text/plain": [
       "       coal     gas   hydro  oil    wind\n",
       "ES      0.0     0.0   400.0  0.0     0.0\n",
       "MZ      0.0     0.0  1100.0  0.0     0.0\n",
       "SA  35000.0  3400.0     0.0  0.0  3000.0"
      ]
     },
     "execution_count": 29,
     "metadata": {},
     "output_type": "execute_result"
    }
   ],
   "source": [
    "print (\"The generator dispatch for each powerplant is as follows (MW)\")\n",
    "pyomogen = pd.Series(m.gendispatch.get_values()).unstack()\n",
    "pyomogen"
   ]
  },
  {
   "cell_type": "code",
   "execution_count": 30,
   "metadata": {
    "collapsed": false,
    "jupyter": {
     "outputs_hidden": false
    }
   },
   "outputs": [
    {
     "name": "stdout",
     "output_type": "stream",
     "text": [
      "The power flows between countries is as follows (MW). Negative values means the flow is in opposite direction\n",
      "Flow between SA-MZ is -350 MW \n",
      "Flow between MZ-ES is 100 MW \n",
      "Flow between SA-ES is -250 MW \n"
     ]
    }
   ],
   "source": [
    "print (\"The power flows between countries is as follows (MW). Negative values means the flow is in opposite direction\")\n",
    "print (\"Flow between SA-MZ is %.0f MW \" % m.f1())\n",
    "print (\"Flow between MZ-ES is %.0f MW \" % m.f2())\n",
    "print (\"Flow between SA-ES is %.0f MW \" % m.f3())"
   ]
  },
  {
   "cell_type": "code",
   "execution_count": 31,
   "metadata": {
    "collapsed": false,
    "jupyter": {
     "outputs_hidden": false
    }
   },
   "outputs": [
    {
     "name": "stdout",
     "output_type": "stream",
     "text": [
      "The total cost of the system is 1.2593 million €\n"
     ]
    }
   ],
   "source": [
    "pyomocost = m.cost() / 1e6\n",
    "print (\"The total cost of the system is %.4f million €\" % pyomocost)"
   ]
  },
  {
   "cell_type": "code",
   "execution_count": 39,
   "metadata": {
    "collapsed": false,
    "jupyter": {
     "outputs_hidden": false
    }
   },
   "outputs": [
    {
     "name": "stdout",
     "output_type": "stream",
     "text": [
      "The market price for each country is as follows (€/MWh)\n"
     ]
    },
    {
     "data": {
      "text/plain": [
       "kcl[ES]     5.0\n",
       "kcl[MZ]     3.0\n",
       "kcl[SA]    60.0\n",
       "dtype: float64"
      ]
     },
     "execution_count": 39,
     "metadata": {},
     "output_type": "execute_result"
    }
   ],
   "source": [
    "print(\"The market price for each country is as follows (€/MWh)\")\n",
    "pyomoprice = pd.Series(m.dual.values(), m.dual.keys()).head(3)\n",
    "pyomoprice"
   ]
  },
  {
   "cell_type": "markdown",
   "metadata": {},
   "source": [
    "### (c)"
   ]
  },
  {
   "cell_type": "markdown",
   "metadata": {},
   "source": [
    "From the below we can see that both Pypsa and Pyomo give us the exact same generator dispatch for all countries and technologies"
   ]
  },
  {
   "cell_type": "code",
   "execution_count": 33,
   "metadata": {
    "collapsed": false,
    "jupyter": {
     "outputs_hidden": false
    }
   },
   "outputs": [
    {
     "data": {
      "text/html": [
       "<div>\n",
       "<style scoped>\n",
       "    .dataframe tbody tr th:only-of-type {\n",
       "        vertical-align: middle;\n",
       "    }\n",
       "\n",
       "    .dataframe tbody tr th {\n",
       "        vertical-align: top;\n",
       "    }\n",
       "\n",
       "    .dataframe thead th {\n",
       "        text-align: right;\n",
       "    }\n",
       "</style>\n",
       "<table border=\"1\" class=\"dataframe\">\n",
       "  <thead>\n",
       "    <tr style=\"text-align: right;\">\n",
       "      <th>Generator</th>\n",
       "      <th>SA coal</th>\n",
       "      <th>SA wind</th>\n",
       "      <th>SA gas</th>\n",
       "      <th>SA oil</th>\n",
       "      <th>MZ hydro</th>\n",
       "      <th>MZ gas</th>\n",
       "      <th>ES hydro</th>\n",
       "    </tr>\n",
       "    <tr>\n",
       "      <th>snapshot</th>\n",
       "      <th></th>\n",
       "      <th></th>\n",
       "      <th></th>\n",
       "      <th></th>\n",
       "      <th></th>\n",
       "      <th></th>\n",
       "      <th></th>\n",
       "    </tr>\n",
       "  </thead>\n",
       "  <tbody>\n",
       "    <tr>\n",
       "      <th>now</th>\n",
       "      <td>35000.0</td>\n",
       "      <td>3000.0</td>\n",
       "      <td>3400.0</td>\n",
       "      <td>0.0</td>\n",
       "      <td>1100.0</td>\n",
       "      <td>0.0</td>\n",
       "      <td>400.0</td>\n",
       "    </tr>\n",
       "  </tbody>\n",
       "</table>\n",
       "</div>"
      ],
      "text/plain": [
       "Generator  SA coal  SA wind  SA gas  SA oil  MZ hydro  MZ gas  ES hydro\n",
       "snapshot                                                               \n",
       "now        35000.0   3000.0  3400.0     0.0    1100.0     0.0     400.0"
      ]
     },
     "execution_count": 33,
     "metadata": {},
     "output_type": "execute_result"
    }
   ],
   "source": [
    "pypsagen"
   ]
  },
  {
   "cell_type": "code",
   "execution_count": 34,
   "metadata": {
    "collapsed": false,
    "jupyter": {
     "outputs_hidden": false
    }
   },
   "outputs": [
    {
     "data": {
      "text/html": [
       "<div>\n",
       "<style scoped>\n",
       "    .dataframe tbody tr th:only-of-type {\n",
       "        vertical-align: middle;\n",
       "    }\n",
       "\n",
       "    .dataframe tbody tr th {\n",
       "        vertical-align: top;\n",
       "    }\n",
       "\n",
       "    .dataframe thead th {\n",
       "        text-align: right;\n",
       "    }\n",
       "</style>\n",
       "<table border=\"1\" class=\"dataframe\">\n",
       "  <thead>\n",
       "    <tr style=\"text-align: right;\">\n",
       "      <th></th>\n",
       "      <th>coal</th>\n",
       "      <th>gas</th>\n",
       "      <th>hydro</th>\n",
       "      <th>oil</th>\n",
       "      <th>wind</th>\n",
       "    </tr>\n",
       "  </thead>\n",
       "  <tbody>\n",
       "    <tr>\n",
       "      <th>ES</th>\n",
       "      <td>0.0</td>\n",
       "      <td>0.0</td>\n",
       "      <td>400.0</td>\n",
       "      <td>0.0</td>\n",
       "      <td>0.0</td>\n",
       "    </tr>\n",
       "    <tr>\n",
       "      <th>MZ</th>\n",
       "      <td>0.0</td>\n",
       "      <td>0.0</td>\n",
       "      <td>1100.0</td>\n",
       "      <td>0.0</td>\n",
       "      <td>0.0</td>\n",
       "    </tr>\n",
       "    <tr>\n",
       "      <th>SA</th>\n",
       "      <td>35000.0</td>\n",
       "      <td>3400.0</td>\n",
       "      <td>0.0</td>\n",
       "      <td>0.0</td>\n",
       "      <td>3000.0</td>\n",
       "    </tr>\n",
       "  </tbody>\n",
       "</table>\n",
       "</div>"
      ],
      "text/plain": [
       "       coal     gas   hydro  oil    wind\n",
       "ES      0.0     0.0   400.0  0.0     0.0\n",
       "MZ      0.0     0.0  1100.0  0.0     0.0\n",
       "SA  35000.0  3400.0     0.0  0.0  3000.0"
      ]
     },
     "execution_count": 34,
     "metadata": {},
     "output_type": "execute_result"
    }
   ],
   "source": [
    "pyomogen"
   ]
  },
  {
   "cell_type": "markdown",
   "metadata": {},
   "source": [
    "Below we can see both Pypsa and Pyomo result in the exact same total cost of minimizing the operational costs using an if statement to confirm"
   ]
  },
  {
   "cell_type": "code",
   "execution_count": 48,
   "metadata": {
    "collapsed": false,
    "jupyter": {
     "outputs_hidden": false
    }
   },
   "outputs": [
    {
     "name": "stdout",
     "output_type": "stream",
     "text": [
      "The total cost of the system is 1.2593 million €\n"
     ]
    }
   ],
   "source": [
    "if pypsacost == pyomocost:\n",
    "    print (\"The total cost of the system is %.4f million €\" % pyomocost)"
   ]
  },
  {
   "cell_type": "markdown",
   "metadata": {},
   "source": [
    "Below we can see even the market prices for all countries using both methods is the same as well"
   ]
  },
  {
   "cell_type": "code",
   "execution_count": 36,
   "metadata": {
    "collapsed": false,
    "jupyter": {
     "outputs_hidden": false
    }
   },
   "outputs": [
    {
     "data": {
      "text/html": [
       "<div>\n",
       "<style scoped>\n",
       "    .dataframe tbody tr th:only-of-type {\n",
       "        vertical-align: middle;\n",
       "    }\n",
       "\n",
       "    .dataframe tbody tr th {\n",
       "        vertical-align: top;\n",
       "    }\n",
       "\n",
       "    .dataframe thead th {\n",
       "        text-align: right;\n",
       "    }\n",
       "</style>\n",
       "<table border=\"1\" class=\"dataframe\">\n",
       "  <thead>\n",
       "    <tr style=\"text-align: right;\">\n",
       "      <th>Bus</th>\n",
       "      <th>SA</th>\n",
       "      <th>MZ</th>\n",
       "      <th>ES</th>\n",
       "    </tr>\n",
       "    <tr>\n",
       "      <th>snapshot</th>\n",
       "      <th></th>\n",
       "      <th></th>\n",
       "      <th></th>\n",
       "    </tr>\n",
       "  </thead>\n",
       "  <tbody>\n",
       "    <tr>\n",
       "      <th>now</th>\n",
       "      <td>60.0</td>\n",
       "      <td>3.0</td>\n",
       "      <td>5.0</td>\n",
       "    </tr>\n",
       "  </tbody>\n",
       "</table>\n",
       "</div>"
      ],
      "text/plain": [
       "Bus         SA   MZ   ES\n",
       "snapshot                \n",
       "now       60.0  3.0  5.0"
      ]
     },
     "execution_count": 36,
     "metadata": {},
     "output_type": "execute_result"
    }
   ],
   "source": [
    "pypsaprice"
   ]
  },
  {
   "cell_type": "code",
   "execution_count": 40,
   "metadata": {
    "collapsed": false,
    "jupyter": {
     "outputs_hidden": false
    }
   },
   "outputs": [
    {
     "data": {
      "text/plain": [
       "kcl[ES]     5.0\n",
       "kcl[MZ]     3.0\n",
       "kcl[SA]    60.0\n",
       "dtype: float64"
      ]
     },
     "execution_count": 40,
     "metadata": {},
     "output_type": "execute_result"
    }
   ],
   "source": [
    "pyomoprice"
   ]
  },
  {
   "cell_type": "code",
   "execution_count": null,
   "metadata": {
    "collapsed": false,
    "jupyter": {
     "outputs_hidden": false
    }
   },
   "outputs": [],
   "source": []
  }
 ],
 "metadata": {
  "kernelspec": {
   "display_name": "Python 3 (ipykernel)",
   "language": "python",
   "name": "python3"
  },
  "language_info": {
   "codemirror_mode": {
    "name": "ipython",
    "version": 3
   },
   "file_extension": ".py",
   "mimetype": "text/x-python",
   "name": "python",
   "nbconvert_exporter": "python",
   "pygments_lexer": "ipython3",
   "version": "3.9.0"
  }
 },
 "nbformat": 4,
 "nbformat_minor": 4
}
